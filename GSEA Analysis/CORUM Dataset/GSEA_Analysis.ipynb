{
  "nbformat": 4,
  "nbformat_minor": 0,
  "metadata": {
    "colab": {
      "provenance": []
    },
    "kernelspec": {
      "name": "python3",
      "display_name": "Python 3"
    },
    "language_info": {
      "name": "python"
    }
  },
  "cells": [
    {
      "cell_type": "markdown",
      "source": [
        " 1. Making the .gmt file to act as a database to run pre ranked GSEA\n",
        "    - For Saccharomyces Cerivisae ,the file \"http://sgd-archive.yeastgenome.org/curation/literature/gene_association.sgd.gaf.gz\"\n",
        "\n",
        "    the first few lines has to be removed for the code works.\n",
        "    \n",
        "\n",
        "    - However the genes follow a SGD ID for the genes instead of the Systematic name that our CYC dataset:\n",
        "\n",
        "    example:\n",
        "SGD ID      Systematic Name\n",
        "---------------------------\n",
        "S000350094\tYDL204W-A\n",
        "\n",
        "\n",
        "S000350095\tYFR035W-A\n",
        "\n",
        "S000001326\tYIL064W\n",
        "\n",
        "S000350096\tYGR016C-A\n",
        "\n",
        "S000001097\tYHR055C\n",
        "\n",
        "S000007234\tYDR034W-B\n",
        "\n",
        "\n",
        " So it had to converted before it could be used."
      ],
      "metadata": {
        "id": "xQL5Ai2xlz11"
      }
    },
    {
      "cell_type": "code",
      "source": [
        "import pandas as pd\n",
        "\n",
        "def gaf_to_gmt(gaf_file, gmt_file):\n",
        "    try:\n",
        "        # Read the GAF file into a pandas DataFrame\n",
        "        gaf_data = pd.read_csv(gaf_file, sep='\\t', header=None, on_bad_lines='skip')\n",
        "\n",
        "        # Initialize a dictionary to store gene sets by GO term\n",
        "        gene_sets = {}\n",
        "\n",
        "        # Iterate through the GAF file rows\n",
        "        for index, row in gaf_data.iterrows():\n",
        "            gene_id = row[1]  # Gene ID column (second column)\n",
        "            term = row[4]  # GO term or other annotation (fifth column)\n",
        "\n",
        "            # If the term is not in the dictionary, add it\n",
        "            if term not in gene_sets:\n",
        "                gene_sets[term] = []\n",
        "\n",
        "            # Add the gene ID to the corresponding GO term's gene list\n",
        "            gene_sets[term].append(gene_id)\n",
        "\n",
        "        # Write the GMT file\n",
        "        with open(gmt_file, 'w') as f:\n",
        "            for term, genes in gene_sets.items():\n",
        "                # Write each GO term and the associated genes\n",
        "                f.write(f\"{term}\\tDescription for {term}\\t\" + \"\\t\".join(genes) + \"\\n\")\n",
        "\n",
        "        print(f\"Conversion complete. {len(gene_sets)} gene sets written to {gmt_file}\")\n",
        "\n",
        "    except Exception as e:\n",
        "        print(f\"Error processing the GAF file: {e}\")\n",
        "\n",
        "# Example usage: replace with the actual file paths\n",
        "gaf_file = '/content/gene_association.sgd.20250707.gaf'  # Path to the GAF file\n",
        "gmt_file = '/content/sgdGMT.gmt'  # Path to the output GMT file\n",
        "\n",
        "# Call the function to convert GAF to GMT\n",
        "gaf_to_gmt(gaf_file, gmt_file)\n",
        "\n"
      ],
      "metadata": {
        "id": "VkRiMWmJl0jl",
        "colab": {
          "base_uri": "https://localhost:8080/"
        },
        "outputId": "d0c49cf6-385f-4d49-9f46-35f8f3af16f8"
      },
      "execution_count": 1,
      "outputs": [
        {
          "output_type": "stream",
          "name": "stdout",
          "text": [
            "Conversion complete. 6092 gene sets written to /content/sgdGMT.gmt\n"
          ]
        }
      ]
    },
    {
      "cell_type": "markdown",
      "source": [
        "The code below converts the SGD IDs to Systematic names:"
      ],
      "metadata": {
        "id": "DtUG8szHwbhk"
      }
    },
    {
      "cell_type": "markdown",
      "source": [
        "in the below code, a text file \"convert_output\" is used, it carries the converision of sgd id to systematic names only for the genes present in the cyc dataset we used.\n"
      ],
      "metadata": {
        "id": "Wx9XAhFh8bMI"
      }
    },
    {
      "cell_type": "markdown",
      "source": [
        "# New Section"
      ],
      "metadata": {
        "id": "AT1fd7Qx9Bxo"
      }
    },
    {
      "cell_type": "code",
      "source": [
        "import csv\n",
        "\n",
        "def load_mapping(mapping_file):\n",
        "    \"\"\"Load SGD ID to systematic name mapping from a tab-delimited text file.\"\"\"\n",
        "    mapping = {}\n",
        "    with open(mapping_file, 'r') as f:\n",
        "        for line in f:\n",
        "            parts = line.strip().split('\\t')\n",
        "            if len(parts) == 2:\n",
        "                sgd_id, sys_name = parts\n",
        "                mapping[sgd_id] = sys_name\n",
        "    return mapping\n",
        "\n",
        "def convert_gmt(input_gmt, output_gmt, mapping):\n",
        "    \"\"\"Convert gene IDs in a GMT file using the mapping and save the result.\"\"\"\n",
        "    with open(input_gmt, 'r') as infile, open(output_gmt, 'w', newline='') as outfile:\n",
        "        writer = csv.writer(outfile, delimiter='\\t')\n",
        "        for line in infile:\n",
        "            parts = line.strip().split('\\t')\n",
        "            if len(parts) >= 3:\n",
        "                gene_set_name = parts[0]\n",
        "                description = parts[1]\n",
        "                # Only include genes with a known mapping\n",
        "                genes = [mapping[g] for g in parts[2:] if g in mapping]\n",
        "                writer.writerow([gene_set_name, description] + genes)\n",
        "\n",
        "if __name__ == \"__main__\":\n",
        "    mapping_file = \"/content/convert_output.txt\"      # Replace with your mapping file name\n",
        "    input_gmt = \"/content/sgdGMT.gmt\"           # Replace with your input GMT file\n",
        "    output_gmt = \"/content/converted_output.gmt\"    # Output file name\n",
        "    mapping = load_mapping(mapping_file)\n",
        "    convert_gmt(input_gmt, output_gmt, mapping)\n",
        "    print(f\"Conversion complete. Output saved to: {output_gmt}\")\n"
      ],
      "metadata": {
        "id": "KNq7uNIFwVmB",
        "colab": {
          "base_uri": "https://localhost:8080/"
        },
        "outputId": "38c41b86-dda6-42d6-d7a9-69f24b68038f"
      },
      "execution_count": 2,
      "outputs": [
        {
          "output_type": "stream",
          "name": "stdout",
          "text": [
            "Conversion complete. Output saved to: /content/converted_output.gmt\n"
          ]
        }
      ]
    },
    {
      "cell_type": "markdown",
      "source": [
        "There are many lines in the gmt file with no gene, so they had to be removed"
      ],
      "metadata": {
        "id": "9MNLTq6ww4VE"
      }
    },
    {
      "cell_type": "code",
      "source": [
        "def clean_gmt(input_file, output_file):\n",
        "    with open(input_file, 'r') as infile, open(output_file, 'w') as outfile:\n",
        "        for line in infile:\n",
        "            parts = line.strip().split('\\t')\n",
        "            if len(parts) > 2:\n",
        "                # Keep lines with at least one gene\n",
        "                outfile.write('\\t'.join(parts) + '\\n')\n",
        "\n",
        "    print(f\"Cleaned GMT saved to: {output_file}\")\n",
        "\n",
        "# Example usage:\n",
        "clean_gmt(\"/content/converted_output.gmt\", \"/content/cleaned_gene_sets.gmt\")"
      ],
      "metadata": {
        "id": "bGLwi4uWxEHN",
        "colab": {
          "base_uri": "https://localhost:8080/"
        },
        "outputId": "a63e349f-ccda-4fbc-bb49-946c8bdbc473"
      },
      "execution_count": 3,
      "outputs": [
        {
          "output_type": "stream",
          "name": "stdout",
          "text": [
            "Cleaned GMT saved to: /content/cleaned_gene_sets.gmt\n"
          ]
        }
      ]
    },
    {
      "cell_type": "markdown",
      "source": [
        "The Script to run GSEA Prerank\n",
        " here we used cenrtality measures to sort the genes and linearly scored them in order to run the GSEAS analysis tool, where if there is *n* genes then the highest ranked gene is scored n and the second highest *n-1*, followed by *n-2* and so on."
      ],
      "metadata": {
        "id": "taD_QKqXxGk9"
      }
    },
    {
      "cell_type": "code",
      "source": [
        "pip install gseapy"
      ],
      "metadata": {
        "colab": {
          "base_uri": "https://localhost:8080/"
        },
        "id": "EH6uTcLS8-_Z",
        "outputId": "7fcc4497-140b-4d43-bf5a-a0ec3b135543"
      },
      "execution_count": 5,
      "outputs": [
        {
          "output_type": "stream",
          "name": "stdout",
          "text": [
            "Collecting gseapy\n",
            "  Downloading gseapy-1.1.9-cp311-cp311-manylinux2014_x86_64.manylinux_2_17_x86_64.whl.metadata (11 kB)\n",
            "Requirement already satisfied: numpy>=1.13.0 in /usr/local/lib/python3.11/dist-packages (from gseapy) (2.0.2)\n",
            "Requirement already satisfied: scipy in /usr/local/lib/python3.11/dist-packages (from gseapy) (1.15.3)\n",
            "Requirement already satisfied: pandas in /usr/local/lib/python3.11/dist-packages (from gseapy) (2.2.2)\n",
            "Requirement already satisfied: matplotlib>=2.2 in /usr/local/lib/python3.11/dist-packages (from gseapy) (3.10.0)\n",
            "Requirement already satisfied: requests in /usr/local/lib/python3.11/dist-packages (from gseapy) (2.32.3)\n",
            "Requirement already satisfied: contourpy>=1.0.1 in /usr/local/lib/python3.11/dist-packages (from matplotlib>=2.2->gseapy) (1.3.2)\n",
            "Requirement already satisfied: cycler>=0.10 in /usr/local/lib/python3.11/dist-packages (from matplotlib>=2.2->gseapy) (0.12.1)\n",
            "Requirement already satisfied: fonttools>=4.22.0 in /usr/local/lib/python3.11/dist-packages (from matplotlib>=2.2->gseapy) (4.58.5)\n",
            "Requirement already satisfied: kiwisolver>=1.3.1 in /usr/local/lib/python3.11/dist-packages (from matplotlib>=2.2->gseapy) (1.4.8)\n",
            "Requirement already satisfied: packaging>=20.0 in /usr/local/lib/python3.11/dist-packages (from matplotlib>=2.2->gseapy) (25.0)\n",
            "Requirement already satisfied: pillow>=8 in /usr/local/lib/python3.11/dist-packages (from matplotlib>=2.2->gseapy) (11.2.1)\n",
            "Requirement already satisfied: pyparsing>=2.3.1 in /usr/local/lib/python3.11/dist-packages (from matplotlib>=2.2->gseapy) (3.2.3)\n",
            "Requirement already satisfied: python-dateutil>=2.7 in /usr/local/lib/python3.11/dist-packages (from matplotlib>=2.2->gseapy) (2.9.0.post0)\n",
            "Requirement already satisfied: pytz>=2020.1 in /usr/local/lib/python3.11/dist-packages (from pandas->gseapy) (2025.2)\n",
            "Requirement already satisfied: tzdata>=2022.7 in /usr/local/lib/python3.11/dist-packages (from pandas->gseapy) (2025.2)\n",
            "Requirement already satisfied: charset-normalizer<4,>=2 in /usr/local/lib/python3.11/dist-packages (from requests->gseapy) (3.4.2)\n",
            "Requirement already satisfied: idna<4,>=2.5 in /usr/local/lib/python3.11/dist-packages (from requests->gseapy) (3.10)\n",
            "Requirement already satisfied: urllib3<3,>=1.21.1 in /usr/local/lib/python3.11/dist-packages (from requests->gseapy) (2.4.0)\n",
            "Requirement already satisfied: certifi>=2017.4.17 in /usr/local/lib/python3.11/dist-packages (from requests->gseapy) (2025.7.14)\n",
            "Requirement already satisfied: six>=1.5 in /usr/local/lib/python3.11/dist-packages (from python-dateutil>=2.7->matplotlib>=2.2->gseapy) (1.17.0)\n",
            "Downloading gseapy-1.1.9-cp311-cp311-manylinux2014_x86_64.manylinux_2_17_x86_64.whl (597 kB)\n",
            "\u001b[2K   \u001b[90m━━━━━━━━━━━━━━━━━━━━━━━━━━━━━━━━━━━━━━━━\u001b[0m \u001b[32m597.6/597.6 kB\u001b[0m \u001b[31m9.5 MB/s\u001b[0m eta \u001b[36m0:00:00\u001b[0m\n",
            "\u001b[?25hInstalling collected packages: gseapy\n",
            "Successfully installed gseapy-1.1.9\n"
          ]
        }
      ]
    },
    {
      "cell_type": "code",
      "source": [
        "import gseapy as gp\n",
        "\n",
        "def run_gsea_preranked(rnk_file, gmt_file, output_dir, min_size=15, max_size=500, permutations=1000):\n",
        "    \"\"\"Run GSEA Pre-Ranked using GSEApy.\"\"\"\n",
        "    # Run preranked GSEA\n",
        "    pre_res = gp.prerank(\n",
        "        rnk=rnk_file,\n",
        "        gene_sets=gmt_file,\n",
        "        outdir=output_dir,\n",
        "        format='png',\n",
        "        permutation_num=permutations,\n",
        "        min_size=min_size,\n",
        "        max_size=max_size,\n",
        "        seed=42,\n",
        "        verbose=True\n",
        "    )\n",
        "    print(f\"GSEA Pre-Ranked analysis complete. Results saved to: {output_dir}\")\n",
        "\n",
        "if __name__ == \"__main__\":\n",
        "    # Replace these with your actual file paths\n",
        "    rnk_file = \"/content/pageRank_graph.rnk\"       # 2-column tab-delimited file: gene \\t score\n",
        "    gmt_file = \"/content/cleaned_gene_sets.gmt\"         # GMT file of gene sets\n",
        "    output_dir = \"/content/pageRank(Graph)\"              # Output directory for GSEA results\n",
        "\n",
        "    run_gsea_preranked(rnk_file, gmt_file, output_dir)\n"
      ],
      "metadata": {
        "id": "P0cTI4lLxqW_",
        "colab": {
          "base_uri": "https://localhost:8080/"
        },
        "outputId": "15fdf396-a2e5-4efa-b298-f3778752d984"
      },
      "execution_count": 6,
      "outputs": [
        {
          "output_type": "stream",
          "name": "stderr",
          "text": [
            "2025-07-19 18:33:51,297 [WARNING] Duplicated values found in preranked stats: 86.87% of genes\n",
            "The order of those genes will be arbitrary, which may produce unexpected results.\n",
            "2025-07-19 18:33:51,298 [INFO] Parsing data files for GSEA.............................\n",
            "2025-07-19 18:33:51,424 [INFO] 5747 gene_sets have been filtered out when max_size=500 and min_size=15\n",
            "2025-07-19 18:33:51,426 [INFO] 0180 gene_sets used for further statistical testing.....\n",
            "2025-07-19 18:33:51,428 [INFO] Start to run GSEA...Might take a while..................\n",
            "2025-07-19 18:34:04,950 [INFO] Congratulations. GSEApy runs successfully................\n",
            "\n"
          ]
        },
        {
          "output_type": "stream",
          "name": "stdout",
          "text": [
            "GSEA Pre-Ranked analysis complete. Results saved to: /content/pageRank(Graph)\n"
          ]
        }
      ]
    }
  ]
}