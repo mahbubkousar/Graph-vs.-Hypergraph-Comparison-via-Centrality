{
  "nbformat": 4,
  "nbformat_minor": 0,
  "metadata": {
    "colab": {
      "provenance": []
    },
    "kernelspec": {
      "name": "python3",
      "display_name": "Python 3"
    },
    "language_info": {
      "name": "python"
    }
  },
  "cells": [
    {
      "cell_type": "markdown",
      "source": [
        "# GSEA for CORUM Protein Complexes using Network Centrality\n",
        "\n",
        "**Objective:** This notebook performs a Gene Set Enrichment Analysis (GSEA) to identify protein complexes that are significantly enriched for genes with high or low network centrality.\n",
        "\n",
        "**Workflow:**\n",
        "* Setup: Install and import necessary Python libraries.\n",
        "* Prepare Ranked Gene List (.rnk): We will use a pre-calculated file of genes ranked by their betweenness centrality. We will format this file for GSEApy.\n",
        "* Prepare Gene Set Database (.gmt): We will download the CORUM protein complex database and convert it into the required .gmt format.\n",
        "* Run GSEA Pre-Ranked: We will execute the analysis using the gseapy library.\n",
        "* Interpret Results: We will discuss how to understand the GSEA output plots and tables."
      ],
      "metadata": {
        "id": "Vr0hOzhsG8Nn"
      }
    },
    {
      "cell_type": "markdown",
      "source": [
        "# Setup Environment"
      ],
      "metadata": {
        "id": "IuQmlb2LHk5W"
      }
    },
    {
      "cell_type": "code",
      "execution_count": null,
      "metadata": {
        "id": "9wtwks9MGOHE"
      },
      "outputs": [],
      "source": [
        "!pip install gseapy"
      ]
    },
    {
      "cell_type": "markdown",
      "source": [
        "# Import Libraries"
      ],
      "metadata": {
        "id": "lNK3sScMHmdb"
      }
    },
    {
      "cell_type": "code",
      "source": [
        "import pandas as pd\n",
        "import gseapy as gp\n",
        "import os\n",
        "\n",
        "print(\"Libraries imported successfully.\")"
      ],
      "metadata": {
        "id": "FBT3t7_FHpOW"
      },
      "execution_count": null,
      "outputs": []
    },
    {
      "cell_type": "markdown",
      "source": [
        "# Create and Format the .rnk File"
      ],
      "metadata": {
        "id": "gLIChCDVIr-g"
      }
    },
    {
      "cell_type": "code",
      "source": [
        "# --- Configuration ---\n",
        "# *** MODIFY THIS VARIABLE to point to your uploaded file ***\n",
        "centrality_input_file = \"/content/corum_dataset.ungraph.betweenness.GSEA.rnk\"\n",
        "rnk_output_file = \"/content/corum_betweenness.rnk\"\n",
        "\n",
        "# --- Processing ---\n",
        "try:\n",
        "    # Read the data, assuming it might have a header\n",
        "    df = pd.read_csv(centrality_input_file, sep='\\t')\n",
        "\n",
        "    # Ensure the columns are correctly named (adjust if necessary)\n",
        "    df.columns = ['gene', 'score']\n",
        "\n",
        "    # Sort by score in descending order (optional, but good practice)\n",
        "    df = df.sort_values(by='score', ascending=False)\n",
        "\n",
        "    # Save to a new file without the header and index\n",
        "    df.to_csv(rnk_output_file, sep='\\t', header=False, index=False)\n",
        "\n",
        "    print(f\"Successfully created GSEA-ready ranked list: {rnk_output_file}\")\n",
        "    print(\"\\nFirst 5 lines of the .rnk file:\")\n",
        "    !head -n 5 {rnk_output_file}\n",
        "\n",
        "except FileNotFoundError:\n",
        "    print(f\"ERROR: File not found at '{centrality_input_file}'. Please upload your file and check the name.\")"
      ],
      "metadata": {
        "id": "skWRsuJbIs2A"
      },
      "execution_count": null,
      "outputs": []
    },
    {
      "cell_type": "markdown",
      "source": [
        "# Create .gmt File from CORUM Database"
      ],
      "metadata": {
        "id": "sE6oQYUNJT5D"
      }
    },
    {
      "cell_type": "code",
      "source": [
        "# This cell defines and runs a function to convert the official CORUM database\n",
        "# file into the .gmt format required by GSEA. It specifically extracts human complexes.\n",
        "#\n",
        "# *** THIS VERSION INCLUDES A FIX to remove empty gene names. ***\n",
        "\n",
        "# --- Configuration ---\n",
        "corum_input_file = \"/content/corum_allComplexes.txt\"\n",
        "gmt_output_file = \"/content/corum_human.gmt\"\n",
        "\n",
        "# --- Processing Function ---\n",
        "def create_corum_gmt(corum_file_path, output_gmt_path):\n",
        "    \"\"\"\n",
        "    Parses the CORUM allComplexes.txt file and converts it to a GMT file.\n",
        "    \"\"\"\n",
        "    try:\n",
        "        corum_df = pd.read_csv(corum_file_path, sep='\\t', header=0)\n",
        "        corum_df = corum_df[corum_df['organism'] == 'Human']\n",
        "\n",
        "        complex_count = 0\n",
        "        with open(output_gmt_path, 'w') as gmt_file:\n",
        "            for index, row in corum_df.iterrows():\n",
        "                complex_name = row['complex_name']\n",
        "                gene_list_str = row['subunits_gene_name']\n",
        "\n",
        "                if isinstance(gene_list_str, str):\n",
        "                    # *** THIS IS THE CORRECTED LINE ***\n",
        "                    # It splits the genes, strips whitespace from each, and removes any that are empty.\n",
        "                    genes = [gene.strip() for gene in gene_list_str.split(';') if gene.strip()]\n",
        "\n",
        "                    # We only write the gene set if it has genes left after cleaning\n",
        "                    if genes:\n",
        "                        description = complex_name.replace('\\t', ' ')\n",
        "                        gmt_file.write(f\"{complex_name}\\t{description}\\t\" + \"\\t\".join(genes) + \"\\n\")\n",
        "                        complex_count += 1\n",
        "\n",
        "        print(f\"Successfully created GMT file with {complex_count} human complexes at: {output_gmt_path}\")\n",
        "        print(\"\\nFirst 3 lines of the .gmt file:\")\n",
        "        !head -n 3 {output_gmt_path}\n",
        "\n",
        "    except FileNotFoundError:\n",
        "        print(f\"ERROR: The file was not found at '{corum_file_path}'. Please upload it.\")\n",
        "    except KeyError as e:\n",
        "        print(f\"ERROR: A required column was not found: {e}. The CORUM file format might have changed.\")\n",
        "\n",
        "# --- Run the function ---\n",
        "create_corum_gmt(corum_input_file, gmt_output_file)"
      ],
      "metadata": {
        "id": "HqajZHRrJYx2"
      },
      "execution_count": null,
      "outputs": []
    },
    {
      "cell_type": "markdown",
      "source": [
        "# Execute GSEA Pre-Ranked Analysis"
      ],
      "metadata": {
        "id": "TDrh99zeKueW"
      }
    },
    {
      "cell_type": "code",
      "source": [
        "# --- Configuration ---\n",
        "# These should match the output files from the previous steps.\n",
        "rnk_file = \"/content/corum_betweenness.rnk\"\n",
        "gmt_file = \"/content/corum_human.gmt\"\n",
        "output_directory = \"gsea_results_corum_centrality\"\n",
        "\n",
        "# --- Run GSEA Pre-Ranked ---\n",
        "try:\n",
        "    pre_res = gp.prerank(\n",
        "        rnk=rnk_file,\n",
        "        gene_sets=gmt_file,\n",
        "        outdir=output_directory,\n",
        "        min_size=3,      # Min size of a complex to be tested\n",
        "        max_size=500,    # Max size of a complex to be tested\n",
        "        permutation_num=1000,  # Number of permutations for significance testing\n",
        "        format='png',    # Output plot format\n",
        "        seed=42,         # For reproducible results\n",
        "        verbose=True     # Show progress\n",
        "    )\n",
        "\n",
        "    print(f\"\\nAnalysis complete! Results are saved in the '{output_directory}' folder.\")\n",
        "    print(\"You can view and download the result files from the file browser on the left.\")\n",
        "\n",
        "except Exception as e:\n",
        "    print(f\"An error occurred during GSEA analysis: {e}\")\n",
        "    print(\"Please check that your .rnk and .gmt files were created successfully.\")"
      ],
      "metadata": {
        "id": "CwZQdN0SKvpr"
      },
      "execution_count": null,
      "outputs": []
    },
    {
      "cell_type": "code",
      "source": [
        "# @title Diagnose Gene ID Mismatch\n",
        "#\n",
        "# Description:\n",
        "# This script checks the overlap between the gene identifiers in your .rnk file\n",
        "# and your .gmt file. A low overlap is the most common reason for blank GSEA plots.\n",
        "\n",
        "rnk_file = \"/content/corum_betweenness.rnk\"\n",
        "gmt_file = \"/content/corum_human.gmt\"\n",
        "\n",
        "try:\n",
        "    # --- Read genes from the .rnk file ---\n",
        "    # The first column contains the gene IDs.\n",
        "    ranked_genes_df = pd.read_csv(rnk_file, sep='\\t', header=None, usecols=[0])\n",
        "    # Use .str.strip() to remove any accidental leading/trailing whitespace.\n",
        "    ranked_genes = set(ranked_genes_df[0].str.strip())\n",
        "    print(f\"Found {len(ranked_genes)} unique genes in your ranked list (.rnk file).\")\n",
        "    # Print a few examples\n",
        "    print(f\"Examples from .rnk: {list(ranked_genes)[:5]}\\n\")\n",
        "\n",
        "\n",
        "    # --- Read genes from the .gmt file ---\n",
        "    gmt_genes = set()\n",
        "    with open(gmt_file, 'r') as f:\n",
        "        for line in f:\n",
        "            parts = line.strip().split('\\t')\n",
        "            # Genes start from the 3rd column (index 2)\n",
        "            for gene in parts[2:]:\n",
        "                # Use .strip() here as well for safety\n",
        "                gmt_genes.add(gene.strip())\n",
        "    print(f\"Found {len(gmt_genes)} unique genes across all CORUM complexes (.gmt file).\")\n",
        "    # Print a few examples\n",
        "    print(f\"Examples from .gmt: {list(gmt_genes)[:5]}\\n\")\n",
        "\n",
        "\n",
        "    # --- Calculate and report the overlap ---\n",
        "    overlapping_genes = ranked_genes.intersection(gmt_genes)\n",
        "\n",
        "    print(\"--- DIAGNOSIS ---\")\n",
        "    print(f\"Number of overlapping genes found in both files: {len(overlapping_genes)}\")\n",
        "\n",
        "    if len(ranked_genes) > 0:\n",
        "      overlap_percentage = (len(overlapping_genes) / len(ranked_genes)) * 100\n",
        "      print(f\"Overlap percentage: {overlap_percentage:.2f}% of your ranked genes are in the CORUM GMT file.\")\n",
        "\n",
        "    if len(overlapping_genes) < 50:\n",
        "        print(\"\\nCONCLUSION: CRITICAL - Very low overlap detected!\")\n",
        "        print(\"This is almost certainly why your enrichment plots are blank.\")\n",
        "        print(\"Please check if the gene ID types are the same (e.g., both are HGNC Gene Symbols).\")\n",
        "        # Show which genes don't match\n",
        "        if len(ranked_genes) > 0 and len(gmt_genes) > 0:\n",
        "            print(\"\\nExample of a gene in .rnk but NOT in .gmt:\", list(ranked_genes - gmt_genes)[0])\n",
        "            print(\"Example of a gene in .gmt but NOT in .rnk:\", list(gmt_genes - ranked_genes)[0])\n",
        "\n",
        "    else:\n",
        "        print(\"\\nCONCLUSION: Overlap looks reasonable. The issue might be more subtle.\")\n",
        "\n",
        "except FileNotFoundError as e:\n",
        "    print(f\"ERROR: A file was not found. Please ensure '{rnk_file}' and '{gmt_file}' exist. Error: {e}\")"
      ],
      "metadata": {
        "id": "Uqsc1HdxMmjZ"
      },
      "execution_count": null,
      "outputs": []
    },
    {
      "cell_type": "code",
      "source": [
        "# @title Check .rnk Score Column for Errors\n",
        "\n",
        "rnk_file = \"corum_betweenness.rnk\"\n",
        "df_check = pd.read_csv(rnk_file, sep='\\t', header=None, names=['gene', 'score'])\n",
        "\n",
        "# Check for non-numeric values\n",
        "numeric_scores = pd.to_numeric(df_check['score'], errors='coerce')\n",
        "nan_count = numeric_scores.isna().sum()\n",
        "\n",
        "if nan_count > 0:\n",
        "    print(f\"WARNING: Found {nan_count} non-numeric or missing scores in your .rnk file!\")\n",
        "    print(\"This can also cause GSEA to fail. Please check your centrality calculation output.\")\n",
        "else:\n",
        "    print(\"SUCCESS: The score column in your .rnk file appears to be clean (all numeric).\")"
      ],
      "metadata": {
        "id": "sPWTyFXjN44B"
      },
      "execution_count": null,
      "outputs": []
    },
    {
      "cell_type": "markdown",
      "source": [
        "# Graph vs. Hypergraph Comparison"
      ],
      "metadata": {
        "id": "9w_1zI_-Rzua"
      }
    },
    {
      "cell_type": "code",
      "source": [
        "import pandas as pd\n",
        "\n",
        "df_graph = pd.read_csv('gsea_results_GRAPH/gseapy.prerank.gene_sets.report.csv')\n",
        "df_hypergraph = pd.read_csv('gsea_results_HYPERGRAPH/gseapy.prerank.gene_sets.report.csv')\n",
        "\n",
        "# Merge the results based on the complex name ('Term')\n",
        "df_comparison = pd.merge(\n",
        "    df_graph[['Term', 'nes', 'fdr']],\n",
        "    df_hypergraph[['Term', 'nes', 'fdr']],\n",
        "    on='Term',\n",
        "    suffixes=('_graph', '_hypergraph')\n",
        ")\n",
        "\n",
        "# Now you can easily find the differences\n",
        "# Example: Find complexes significant in hypergraph but not graph (using FDR < 0.25 as cutoff)\n",
        "significant_in_hypergraph_only = df_comparison[\n",
        "    (df_comparison['fdr_hypergraph'] < 0.25) &\n",
        "    (df_comparison['fdr_graph'] >= 0.25)\n",
        "]\n",
        "\n",
        "print(significant_in_hypergraph_only)"
      ],
      "metadata": {
        "id": "ZiHN6gsZRywN"
      },
      "execution_count": null,
      "outputs": []
    }
  ]
}