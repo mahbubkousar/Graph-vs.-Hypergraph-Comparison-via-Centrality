{
  "nbformat": 4,
  "nbformat_minor": 0,
  "metadata": {
    "colab": {
      "provenance": []
    },
    "kernelspec": {
      "name": "python3",
      "display_name": "Python 3"
    },
    "language_info": {
      "name": "python"
    }
  },
  "cells": [
    {
      "cell_type": "code",
      "execution_count": 1,
      "metadata": {
        "colab": {
          "base_uri": "https://localhost:8080/"
        },
        "id": "vCKC-2WwOk1Y",
        "outputId": "c251d57e-a3c0-4c34-d9c8-a152cbe587f0"
      },
      "outputs": [
        {
          "output_type": "stream",
          "name": "stdout",
          "text": [
            "Mapping file created successfully at: /content/convert_output.txt\n"
          ]
        }
      ],
      "source": [
        "import pandas as pd\n",
        "\n",
        "# Path to the big feature file you downloaded\n",
        "sgd_features_file = '/content/SGD_features.tab'\n",
        "\n",
        "# Path for your output mapping file\n",
        "output_mapping_file = '/content/convert_output.txt'\n",
        "\n",
        "# Define the column names based on the SGD_features.tab file documentation\n",
        "# This helps in clarity and avoids using magic numbers like 0 and 3\n",
        "column_names = [\n",
        "    'sgd_id', 'feature_type', 'feature_qualifier', 'systematic_name',\n",
        "    'standard_name', 'aliases', 'parent_feature', 'secondary_sgd_id',\n",
        "    'chromosome', 'start_coord', 'stop_coord', 'strand', 'genetic_position',\n",
        "    'coord_version', 'seq_version', 'description'\n",
        "]\n",
        "\n",
        "# Read the file, specifying there is no header in the file itself\n",
        "df = pd.read_csv(sgd_features_file, sep='\\t', header=None, names=column_names)\n",
        "\n",
        "# Select only the two columns we need\n",
        "mapping_df = df[['sgd_id', 'systematic_name']]\n",
        "\n",
        "# Drop any rows where the systematic name might be missing (important for clean data)\n",
        "mapping_df = mapping_df.dropna()\n",
        "\n",
        "# Save the result to a new file, without the header and without the index\n",
        "mapping_df.to_csv(\n",
        "    output_mapping_file,\n",
        "    sep='\\t',          # Use tab as the separator\n",
        "    header=False,      # Do not write the column names to the file\n",
        "    index=False        # Do not write the row numbers (index)\n",
        ")\n",
        "\n",
        "print(f\"Mapping file created successfully at: {output_mapping_file}\")"
      ]
    },
    {
      "cell_type": "code",
      "source": [
        "import pandas as pd\n",
        "\n",
        "# 1. Define your input and output file paths\n",
        "#    CHOOSE THIS FILE: It's based on the full graph and is cleaned.\n",
        "input_pagerank_file = \"/content/CYC.cmty.pagerank (1).txt\"\n",
        "output_rnk_file = \"/content/pageRank_graph.rnk\" # The final file for GSEA\n",
        "\n",
        "# 2. Read and parse the file\n",
        "gene_scores = []\n",
        "with open(input_pagerank_file, 'r') as f:\n",
        "    for line in f:\n",
        "        # The format is \"GENE = SCORE %\". We split on the '='.\n",
        "        if '=' not in line:\n",
        "            # This skips header lines or any other malformed lines\n",
        "            continue\n",
        "\n",
        "        # Split the line into two parts: gene part and score part\n",
        "        parts = line.strip().split('=')\n",
        "        gene_name = parts[0].strip()  # Get gene name, remove extra spaces\n",
        "\n",
        "        # Clean up the score part: remove spaces and the trailing '%'\n",
        "        score_str = parts[1].strip().replace('%', '')\n",
        "\n",
        "        # Convert the score string to a number (float)\n",
        "        score_val = float(score_str)\n",
        "\n",
        "        gene_scores.append((gene_name, score_val))\n",
        "\n",
        "# 3. Create a pandas DataFrame for easy sorting\n",
        "df = pd.DataFrame(gene_scores, columns=['gene', 'score'])\n",
        "\n",
        "# 4. Sort the DataFrame by score in descending order (highest first)\n",
        "#    This is a CRITICAL step for GSEA\n",
        "df_sorted = df.sort_values(by='score', ascending=False)\n",
        "\n",
        "# 5. Save the sorted data to the .rnk file\n",
        "#    - sep='\\t' makes it tab-separated\n",
        "#    - header=False ensures no header is written\n",
        "#    - index=False ensures row numbers are not written\n",
        "df_sorted.to_csv(output_rnk_file, sep='\\t', header=False, index=False)\n",
        "\n",
        "print(f\"Successfully created GSEA-ready rank file at: {output_rnk_file}\")\n",
        "print(f\"Total genes in rank file: {len(df_sorted)}\")\n",
        "print(\"\\nFirst 5 lines of the new .rnk file:\")\n",
        "print(df_sorted.head())"
      ],
      "metadata": {
        "colab": {
          "base_uri": "https://localhost:8080/"
        },
        "id": "w04DlIsPQzif",
        "outputId": "b7a3f857-e001-4b7f-eaa4-92a4daaac665"
      },
      "execution_count": 2,
      "outputs": [
        {
          "output_type": "stream",
          "name": "stdout",
          "text": [
            "Successfully created GSEA-ready rank file at: /content/pageRank_graph.rnk\n",
            "Total genes in rank file: 1627\n",
            "\n",
            "First 5 lines of the new .rnk file:\n",
            "      gene     score\n",
            "0  YBR160W  0.390867\n",
            "1  YER133W  0.340878\n",
            "2  YPL031C  0.231531\n",
            "3  YDL047W  0.180974\n",
            "4  YPL129W  0.176248\n"
          ]
        }
      ]
    }
  ]
}